{
 "cells": [
  {
   "cell_type": "code",
   "execution_count": 1,
   "id": "967c36dc-3062-4a7f-ad59-b9eb28c227f1",
   "metadata": {},
   "outputs": [],
   "source": [
    "%load_ext autoreload\n",
    "%autoreload 2"
   ]
  },
  {
   "cell_type": "markdown",
   "id": "0fa356ee-c9cc-429a-b2be-63119b01699f",
   "metadata": {},
   "source": [
    "# Sample usage of `ruska`'s `Inspector`\n",
    "`Inspector` is a module that helps explaining data cleaning outcomes. Three datasets feed into `Inspector`: The clean dataset, the dirty dataset, and the dataset after the cleaning operation, called \"treated\"."
   ]
  },
  {
   "cell_type": "code",
   "execution_count": 3,
   "id": "53785b4d-8478-4404-aa66-fef4be6250e3",
   "metadata": {},
   "outputs": [],
   "source": [
    "from ruska import Inspector\n",
    "import pandas as pd"
   ]
  },
  {
   "cell_type": "code",
   "execution_count": 4,
   "id": "4f10f5cc-5ce0-4fc4-beb1-9cab26227318",
   "metadata": {},
   "outputs": [],
   "source": [
    "df_clean = pd.read_csv('sample_data/hospital_1k_clean.csv', header=None)\n",
    "df_dirty = pd.read_csv('sample_data/hospital_1k_dirty.csv', header=None)\n",
    "df_treated = pd.read_csv('sample_data/hospital_1k_treated.csv', header=None)\n",
    "\n",
    "se_clean = df_clean.iloc[:, 3]\n",
    "se_dirty = df_dirty.iloc[:, 3]\n",
    "se_treated = df_treated.iloc[:, 3]"
   ]
  },
  {
   "cell_type": "markdown",
   "id": "710d856e-39f0-469f-9190-bdb14e233695",
   "metadata": {},
   "source": [
    "`Inspector` can operate under two scenarios: One, where it is assumed that error positions are known (as in Baran), and one, in which error positions are unknown (datawig)."
   ]
  },
  {
   "cell_type": "code",
   "execution_count": 5,
   "id": "85f6ea49-ba32-4b56-8216-58017ce881df",
   "metadata": {},
   "outputs": [],
   "source": [
    "ins = Inspector(assume_errors_known=True)\n",
    "ins.calculate_error_positions(se_clean, se_dirty)"
   ]
  },
  {
   "cell_type": "markdown",
   "id": "9aca5990-5649-4fa2-bba3-c47265c2af37",
   "metadata": {},
   "source": [
    "A boolean selector of error positions is maintained in the `Inspector` object. It can be used to access errors in the data:"
   ]
  },
  {
   "cell_type": "code",
   "execution_count": 7,
   "id": "00d7df95-9608-42ec-87b0-de895c5e2160",
   "metadata": {},
   "outputs": [
    {
     "data": {
      "text/plain": [
       "271    ALABASTER\n",
       "274    ALABASTER\n",
       "275    ALABASTER\n",
       "276    ALABASTER\n",
       "278    ALABASTER\n",
       "279    ALABASTER\n",
       "280    ALABASTER\n",
       "281    ALABASTER\n",
       "282    ALABASTER\n",
       "283    ALABASTER\n",
       "284    ALABASTER\n",
       "285    ALABASTER\n",
       "287    ALABASTER\n",
       "289    ALABASTER\n",
       "290    ALABASTER\n",
       "291    ALABASTER\n",
       "292    ALABASTER\n",
       "293    ALABASTER\n",
       "836      CLANTON\n",
       "Name: 3, dtype: object"
      ]
     },
     "execution_count": 7,
     "metadata": {},
     "output_type": "execute_result"
    }
   ],
   "source": [
    "se_treated.loc[ins._error_positions]"
   ]
  },
  {
   "cell_type": "markdown",
   "id": "8353eca9-92c1-4aba-8e1f-aba9aeb90b1d",
   "metadata": {},
   "source": [
    "In this example, `df_treated` is actually a copy of `df_clean`. So let's simulate a program cleaning row `271` with the value `'Berlin'`:"
   ]
  },
  {
   "cell_type": "code",
   "execution_count": 8,
   "id": "92fcf78e-f434-421f-9bb9-018d04a5d3c2",
   "metadata": {},
   "outputs": [],
   "source": [
    "se_treated.iat[271] = 'BERLIN'"
   ]
  },
  {
   "cell_type": "markdown",
   "id": "de4e6b6f-53c7-4474-9b6f-34463f25c9b1",
   "metadata": {},
   "source": [
    "Now, one can calculate the cleaning performance:"
   ]
  },
  {
   "cell_type": "code",
   "execution_count": 10,
   "id": "affe4cd9-c28c-465d-a80d-062ba1f380ae",
   "metadata": {},
   "outputs": [
    {
     "name": "stdout",
     "output_type": "stream",
     "text": [
      "Calculating Cleaning Performance.\n",
      "Counted 18 TPs, 0 FPs, 1 FNs and 0 TNs.\n"
     ]
    },
    {
     "data": {
      "text/plain": [
       "0.972972972972973"
      ]
     },
     "execution_count": 10,
     "metadata": {},
     "output_type": "execute_result"
    }
   ],
   "source": [
    "ins.cleaning_performance(se_clean, se_treated, se_dirty)"
   ]
  },
  {
   "cell_type": "markdown",
   "id": "91652e6a-39c2-4e84-8e9a-9e0d1ecfd8c7",
   "metadata": {},
   "source": [
    "## Inspecting\n",
    "To inspect cleaning results, first run `calculate_cleaning_error_positions`, then, `inspect_cleaning_results`. The context with which the correction is displayed can be passed as a `slice`:"
   ]
  },
  {
   "cell_type": "code",
   "execution_count": 12,
   "id": "8e0ad6be-0f98-4384-8da2-6f1e08b5cc7c",
   "metadata": {},
   "outputs": [],
   "source": [
    "ins.calculate_cleaning_error_positions(se_clean, se_treated)"
   ]
  },
  {
   "cell_type": "code",
   "execution_count": 14,
   "id": "240841b3-6b1b-455e-8efc-8b714c50c678",
   "metadata": {},
   "outputs": [
    {
     "name": "stdout",
     "output_type": "stream",
     "text": [
      "Evaluating error 0 from 999\n",
      "Error in row 271:\n",
      "                           2            3   4        5\n",
      "268         33700 HIGHWAY 43  THOMASVILLE  AL  36784.0\n",
      "269  1000 FIRST STREET NORTH    ALABASTER  AL  35007.0\n",
      "270  1000 FIRST STREET NORTH    ALABASTER  AL  35007.0\n",
      "271  1000 FIRST STREET NORTH     ALABATER  AL  35007.0\n",
      "272  1000 FIRST STREET NORTH    ALABASTER  AL  35007.0\n",
      "273  1000 FIRST STREET NORTH    ALABASTER   L  35007.0\n",
      "Cleaning result in row 271:\n",
      "                           2            3   4      5\n",
      "268         33700 HIGHWAY 43  THOMASVILLE  AL  36784\n",
      "269  1000 FIRST STREET NORTH    ALABASTER  AL  35007\n",
      "270  1000 FIRST STREET NORTH    ALABASTER  AL  35007\n",
      "271  1000 FIRST STREET NORTH       BERLIN  AL  35007\n",
      "272  1000 FIRST STREET NORTH    ALABASTER  AL  35007\n",
      "273  1000 FIRST STREET NORTH    ALABASTER  AL  35007\n",
      "Groud truth in row 271:\n",
      "                           2            3   4      5\n",
      "268         33700 HIGHWAY 43  THOMASVILLE  AL  36784\n",
      "269  1000 FIRST STREET NORTH    ALABASTER  AL  35007\n",
      "270  1000 FIRST STREET NORTH    ALABASTER  AL  35007\n",
      "271  1000 FIRST STREET NORTH    ALABASTER  AL  35007\n",
      "272  1000 FIRST STREET NORTH    ALABASTER  AL  35007\n",
      "273  1000 FIRST STREET NORTH    ALABASTER  AL  35007\n"
     ]
    }
   ],
   "source": [
    "ins.inspect_cleaning_results(df_clean, df_treated, df_dirty, slice(2,5))"
   ]
  }
 ],
 "metadata": {
  "kernelspec": {
   "display_name": "Python 3",
   "language": "python",
   "name": "python3"
  },
  "language_info": {
   "codemirror_mode": {
    "name": "ipython",
    "version": 3
   },
   "file_extension": ".py",
   "mimetype": "text/x-python",
   "name": "python",
   "nbconvert_exporter": "python",
   "pygments_lexer": "ipython3",
   "version": "3.7.10"
  }
 },
 "nbformat": 4,
 "nbformat_minor": 5
}
